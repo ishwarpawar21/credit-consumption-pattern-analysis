{
 "cells": [
  {
   "cell_type": "code",
   "execution_count": 2,
   "metadata": {},
   "outputs": [],
   "source": [
    "import pandas as pd\n",
    "import seaborn as sns\n",
    "import matplotlib.pyplot as plt"
   ]
  },
  {
   "cell_type": "code",
   "execution_count": 4,
   "metadata": {},
   "outputs": [],
   "source": [
    "# Load the data\n",
    "file_path = '../data/credit_card_transactions.csv'\n",
    "data = pd.read_csv(file_path)"
   ]
  },
  {
   "cell_type": "code",
   "execution_count": null,
   "metadata": {},
   "outputs": [
    {
     "name": "stdout",
     "output_type": "stream",
     "text": [
      "<class 'pandas.core.frame.DataFrame'>\n",
      "RangeIndex: 24386900 entries, 0 to 24386899\n",
      "Data columns (total 15 columns):\n",
      " #   Column          Dtype  \n",
      "---  ------          -----  \n",
      " 0   User            int64  \n",
      " 1   Card            int64  \n",
      " 2   Year            int64  \n",
      " 3   Month           int64  \n",
      " 4   Day             int64  \n",
      " 5   Time            object \n",
      " 6   Amount          object \n",
      " 7   Use Chip        object \n",
      " 8   Merchant Name   int64  \n",
      " 9   Merchant City   object \n",
      " 10  Merchant State  object \n",
      " 11  Zip             float64\n",
      " 12  MCC             int64  \n",
      " 13  Errors?         object \n",
      " 14  Is Fraud?       object \n",
      "dtypes: float64(1), int64(7), object(7)\n",
      "memory usage: 2.7+ GB\n",
      "None\n",
      "               User          Card          Year         Month           Day  \\\n",
      "count  2.438690e+07  2.438690e+07  2.438690e+07  2.438690e+07  2.438690e+07   \n",
      "mean   1.001019e+03  1.351366e+00  2.011955e+03  6.525064e+00  1.571812e+01   \n",
      "std    5.694612e+02  1.407154e+00  5.105921e+00  3.472355e+00  8.794073e+00   \n",
      "min    0.000000e+00  0.000000e+00  1.991000e+03  1.000000e+00  1.000000e+00   \n",
      "25%    5.100000e+02  0.000000e+00  2.008000e+03  3.000000e+00  8.000000e+00   \n",
      "50%    1.006000e+03  1.000000e+00  2.013000e+03  7.000000e+00  1.600000e+01   \n",
      "75%    1.477000e+03  2.000000e+00  2.016000e+03  1.000000e+01  2.300000e+01   \n",
      "max    1.999000e+03  8.000000e+00  2.020000e+03  1.200000e+01  3.100000e+01   \n",
      "\n",
      "       Merchant Name           Zip           MCC  \n",
      "count   2.438690e+07  2.150876e+07  2.438690e+07  \n",
      "mean   -4.769230e+17  5.095644e+04  5.561171e+03  \n",
      "std     4.758940e+18  2.939707e+04  8.793154e+02  \n",
      "min    -9.222899e+18  5.010000e+02  1.711000e+03  \n",
      "25%    -4.500543e+18  2.837400e+04  5.300000e+03  \n",
      "50%    -7.946765e+17  4.674200e+04  5.499000e+03  \n",
      "75%     3.189517e+18  7.756400e+04  5.812000e+03  \n",
      "max     9.223292e+18  9.992800e+04  9.402000e+03  \n",
      "   User  Card  Year  Month  Day   Time   Amount           Use Chip  \\\n",
      "0     0     0  2002      9    1  06:21  $134.09  Swipe Transaction   \n",
      "1     0     0  2002      9    1  06:42   $38.48  Swipe Transaction   \n",
      "2     0     0  2002      9    2  06:22  $120.34  Swipe Transaction   \n",
      "3     0     0  2002      9    2  17:45  $128.95  Swipe Transaction   \n",
      "4     0     0  2002      9    3  06:23  $104.71  Swipe Transaction   \n",
      "\n",
      "         Merchant Name  Merchant City Merchant State      Zip   MCC Errors?  \\\n",
      "0  3527213246127876953       La Verne             CA  91750.0  5300     NaN   \n",
      "1  -727612092139916043  Monterey Park             CA  91754.0  5411     NaN   \n",
      "2  -727612092139916043  Monterey Park             CA  91754.0  5411     NaN   \n",
      "3  3414527459579106770  Monterey Park             CA  91754.0  5651     NaN   \n",
      "4  5817218446178736267       La Verne             CA  91750.0  5912     NaN   \n",
      "\n",
      "  Is Fraud?  \n",
      "0        No  \n",
      "1        No  \n",
      "2        No  \n",
      "3        No  \n",
      "4        No  \n",
      "   User  Card  Year  Month  Day   Time   Amount           Use Chip  \\\n",
      "0     0     0  2002      9    1  06:21  $134.09  Swipe Transaction   \n",
      "1     0     0  2002      9    1  06:42   $38.48  Swipe Transaction   \n",
      "2     0     0  2002      9    2  06:22  $120.34  Swipe Transaction   \n",
      "3     0     0  2002      9    2  17:45  $128.95  Swipe Transaction   \n",
      "4     0     0  2002      9    3  06:23  $104.71  Swipe Transaction   \n",
      "\n",
      "         Merchant Name  Merchant City Merchant State      Zip   MCC Errors?  \\\n",
      "0  3527213246127876953       La Verne             CA  91750.0  5300     NaN   \n",
      "1  -727612092139916043  Monterey Park             CA  91754.0  5411     NaN   \n",
      "2  -727612092139916043  Monterey Park             CA  91754.0  5411     NaN   \n",
      "3  3414527459579106770  Monterey Park             CA  91754.0  5651     NaN   \n",
      "4  5817218446178736267       La Verne             CA  91750.0  5912     NaN   \n",
      "\n",
      "  Is Fraud?  \n",
      "0        No  \n",
      "1        No  \n",
      "2        No  \n",
      "3        No  \n",
      "4        No  \n"
     ]
    }
   ],
   "source": [
    "# Display basic information\n",
    "print(data.info())\n",
    "print(data.describe())\n",
    "\n",
    "# Display first few rows\n",
    "print(data.head())\n",
    "\n",
    "# Display first few rows\n",
    "print(data.head())"
   ]
  },
  {
   "cell_type": "code",
   "execution_count": null,
   "metadata": {},
   "outputs": [],
   "source": [
    "# Visualize missing values\n",
    "sns.heatmap(data.isnull(), cbar=False, cmap='viridis')\n",
    "plt.title('Missing Values Heatmap')\n",
    "plt.show()"
   ]
  }
 ],
 "metadata": {
  "kernelspec": {
   "display_name": "Python 3",
   "language": "python",
   "name": "python3"
  },
  "language_info": {
   "codemirror_mode": {
    "name": "ipython",
    "version": 3
   },
   "file_extension": ".py",
   "mimetype": "text/x-python",
   "name": "python",
   "nbconvert_exporter": "python",
   "pygments_lexer": "ipython3",
   "version": "3.8.5"
  }
 },
 "nbformat": 4,
 "nbformat_minor": 4
}
