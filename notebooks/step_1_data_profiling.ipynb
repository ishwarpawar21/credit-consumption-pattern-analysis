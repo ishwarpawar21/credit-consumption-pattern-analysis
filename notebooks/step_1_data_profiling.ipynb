{
 "cells": [
  {
   "cell_type": "markdown",
   "metadata": {},
   "source": [
    "Step 1: Data Profiling"
   ]
  },
  {
   "cell_type": "code",
   "execution_count": 1,
   "metadata": {},
   "outputs": [],
   "source": [
    "import pandas as pd\n",
    "import seaborn as sns\n",
    "import matplotlib.pyplot as plt\n",
    "import seaborn as sns"
   ]
  },
  {
   "cell_type": "code",
   "execution_count": 2,
   "metadata": {},
   "outputs": [],
   "source": [
    "# Load the data\n",
    "file_path = '../data/credit_card_transactions.csv'\n",
    "data = pd.read_csv(file_path)"
   ]
  },
  {
   "cell_type": "code",
   "execution_count": 3,
   "metadata": {},
   "outputs": [
    {
     "name": "stdout",
     "output_type": "stream",
     "text": [
      "<class 'pandas.core.frame.DataFrame'>\n",
      "RangeIndex: 19963 entries, 0 to 19962\n",
      "Data columns (total 15 columns):\n",
      " #   Column          Non-Null Count  Dtype  \n",
      "---  ------          --------------  -----  \n",
      " 0   User            19963 non-null  int64  \n",
      " 1   Card            19963 non-null  int64  \n",
      " 2   Year            19963 non-null  int64  \n",
      " 3   Month           19963 non-null  int64  \n",
      " 4   Day             19963 non-null  int64  \n",
      " 5   Time            19963 non-null  object \n",
      " 6   Amount          19963 non-null  object \n",
      " 7   Use Chip        19963 non-null  object \n",
      " 8   Merchant Name   19963 non-null  int64  \n",
      " 9   Merchant City   19963 non-null  object \n",
      " 10  Merchant State  18646 non-null  object \n",
      " 11  Zip             18316 non-null  float64\n",
      " 12  MCC             19963 non-null  int64  \n",
      " 13  Errors?         574 non-null    object \n",
      " 14  Is Fraud?       19963 non-null  object \n",
      "dtypes: float64(1), int64(7), object(7)\n",
      "memory usage: 2.3+ MB\n",
      "None\n",
      "          User          Card          Year         Month           Day  \\\n",
      "count  19963.0  19963.000000  19963.000000  19963.000000  19963.000000   \n",
      "mean       0.0      1.910735   2011.011922      6.568101     15.743876   \n",
      "std        0.0      1.237763      5.048146      3.477497      8.801378   \n",
      "min        0.0      0.000000   2002.000000      1.000000      1.000000   \n",
      "25%        0.0      0.000000   2007.000000      4.000000      8.000000   \n",
      "50%        0.0      2.000000   2011.000000      7.000000     16.000000   \n",
      "75%        0.0      3.000000   2015.000000     10.000000     23.000000   \n",
      "max        0.0      4.000000   2020.000000     12.000000     31.000000   \n",
      "\n",
      "       Merchant Name           Zip           MCC  \n",
      "count   1.996300e+04  18316.000000  19963.000000  \n",
      "mean    7.825653e+17  88812.744922   5617.940239  \n",
      "std     4.040602e+18  13711.491085    707.982901  \n",
      "min    -9.179793e+18   1012.000000   1711.000000  \n",
      "25%    -1.288082e+18  91750.000000   5311.000000  \n",
      "50%     8.384250e+17  91750.000000   5499.000000  \n",
      "75%     4.060647e+18  91752.000000   5912.000000  \n",
      "max     9.137769e+18  99504.000000   9402.000000  \n",
      "   User  Card  Year  Month  Day   Time   Amount           Use Chip  \\\n",
      "0     0     0  2002      9    1  06:21  $134.09  Swipe Transaction   \n",
      "1     0     0  2002      9    1  06:42   $38.48  Swipe Transaction   \n",
      "2     0     0  2002      9    2  06:22  $120.34  Swipe Transaction   \n",
      "3     0     0  2002      9    2  17:45  $128.95  Swipe Transaction   \n",
      "4     0     0  2002      9    3  06:23  $104.71  Swipe Transaction   \n",
      "\n",
      "         Merchant Name  Merchant City Merchant State      Zip   MCC Errors?  \\\n",
      "0  3527213246127876953       La Verne             CA  91750.0  5300     NaN   \n",
      "1  -727612092139916043  Monterey Park             CA  91754.0  5411     NaN   \n",
      "2  -727612092139916043  Monterey Park             CA  91754.0  5411     NaN   \n",
      "3  3414527459579106770  Monterey Park             CA  91754.0  5651     NaN   \n",
      "4  5817218446178736267       La Verne             CA  91750.0  5912     NaN   \n",
      "\n",
      "  Is Fraud?  \n",
      "0        No  \n",
      "1        No  \n",
      "2        No  \n",
      "3        No  \n",
      "4        No  \n",
      "   User  Card  Year  Month  Day   Time   Amount           Use Chip  \\\n",
      "0     0     0  2002      9    1  06:21  $134.09  Swipe Transaction   \n",
      "1     0     0  2002      9    1  06:42   $38.48  Swipe Transaction   \n",
      "2     0     0  2002      9    2  06:22  $120.34  Swipe Transaction   \n",
      "3     0     0  2002      9    2  17:45  $128.95  Swipe Transaction   \n",
      "4     0     0  2002      9    3  06:23  $104.71  Swipe Transaction   \n",
      "\n",
      "         Merchant Name  Merchant City Merchant State      Zip   MCC Errors?  \\\n",
      "0  3527213246127876953       La Verne             CA  91750.0  5300     NaN   \n",
      "1  -727612092139916043  Monterey Park             CA  91754.0  5411     NaN   \n",
      "2  -727612092139916043  Monterey Park             CA  91754.0  5411     NaN   \n",
      "3  3414527459579106770  Monterey Park             CA  91754.0  5651     NaN   \n",
      "4  5817218446178736267       La Verne             CA  91750.0  5912     NaN   \n",
      "\n",
      "  Is Fraud?  \n",
      "0        No  \n",
      "1        No  \n",
      "2        No  \n",
      "3        No  \n",
      "4        No  \n"
     ]
    }
   ],
   "source": [
    "# Display basic information\n",
    "print(data.info())\n",
    "print(data.describe())\n",
    "\n",
    "# Display first few rows\n",
    "print(data.head())\n",
    "\n",
    "# Display first few rows\n",
    "print(data.head())"
   ]
  },
  {
   "cell_type": "code",
   "execution_count": null,
   "metadata": {},
   "outputs": [],
   "source": []
  }
 ],
 "metadata": {
  "kernelspec": {
   "display_name": "Python 3 (ipykernel)",
   "language": "python",
   "name": "python3"
  },
  "language_info": {
   "codemirror_mode": {
    "name": "ipython",
    "version": 3
   },
   "file_extension": ".py",
   "mimetype": "text/x-python",
   "name": "python",
   "nbconvert_exporter": "python",
   "pygments_lexer": "ipython3",
   "version": "3.8.19"
  }
 },
 "nbformat": 4,
 "nbformat_minor": 4
}
