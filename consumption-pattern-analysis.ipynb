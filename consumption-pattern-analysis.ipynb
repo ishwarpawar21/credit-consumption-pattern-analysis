{
 "cells": [
  {
   "cell_type": "markdown",
   "id": "36b0f47c-9d4c-4693-ad1b-53631575f5f4",
   "metadata": {},
   "source": [
    "Step 5: Deploy\n",
    "Note: Ensure the Flask server is running and then use the following code in Jupyter Notebook. \n",
    "../app/app"
   ]
  },
  {
   "cell_type": "code",
   "execution_count": 1,
   "id": "53e82c67-a23b-4d7f-b29c-b0869f818388",
   "metadata": {},
   "outputs": [],
   "source": [
    "import requests\n",
    "import pandas as pd\n",
    "import matplotlib.pyplot as plt"
   ]
  },
  {
   "cell_type": "code",
   "execution_count": 8,
   "id": "88a2a59a-d856-4424-8ff6-d8280ed2982c",
   "metadata": {},
   "outputs": [
    {
     "name": "stdout",
     "output_type": "stream",
     "text": [
      "{'sarima': 1672.8446993663422}\n",
      "{'sarima': 1672.8446993663422, 'prophet': 1427.0312594246136}\n",
      "{'sarima': 1672.8446993663422, 'prophet': 1427.0312594246136, 'random_forest': 1174.8287999999989}\n",
      "{'sarima': 1672.8446993663422, 'prophet': 1427.0312594246136, 'random_forest': 1174.8287999999989, 'gradient_boosting': 1323.2651286611901}\n",
      "{'sarima': 1672.8446993663422, 'prophet': 1427.0312594246136, 'random_forest': 1174.8287999999989, 'gradient_boosting': 1323.2651286611901, 'lstm': 1426.425048828125}\n"
     ]
    }
   ],
   "source": [
    "# Example data\n",
    "test_data = pd.read_csv('data/weekly_data_test.csv', parse_dates=['Timestamp'])\n",
    "test_data['WeekOfYear'] = test_data['Timestamp'].dt.isocalendar().week\n",
    "test_data['Year'] = test_data['Timestamp'].dt.year\n",
    "\n",
    "# Convert Timestamp to string\n",
    "test_data['Timestamp'] = test_data['Timestamp'].astype(str)\n",
    "\n",
    "# Prepare the payload\n",
    "payload = {\n",
    "    'model': '',  # Change to the desired model name\n",
    "    'data': data.to_dict(orient='records')\n",
    "}\n",
    "\n",
    "# Send request to Flask API\n",
    "#response = requests.post('http://127.0.0.1:5000/predict', json=payload)\n",
    "models = ['sarima', 'prophet', 'random_forest', 'gradient_boosting','lstm']\n",
    "\n",
    "# Store predictions\n",
    "predictions = {}\n",
    "\n",
    "# Get predictions from all models\n",
    "for model in models:\n",
    "    payload['model'] = model\n",
    "    response = requests.post('http://127.0.0.1:5000/predict', json=payload)\n",
    "    if response.status_code == 200:\n",
    "        predictions[model] = response.json()['prediction']\n",
    "        print(predictions)\n",
    "    else:\n",
    "        print(f\"Error: {response.status_code}, {response.text}\")"
   ]
  }
 ],
 "metadata": {
  "kernelspec": {
   "display_name": "Python 3 (ipykernel)",
   "language": "python",
   "name": "python3"
  },
  "language_info": {
   "codemirror_mode": {
    "name": "ipython",
    "version": 3
   },
   "file_extension": ".py",
   "mimetype": "text/x-python",
   "name": "python",
   "nbconvert_exporter": "python",
   "pygments_lexer": "ipython3",
   "version": "3.8.19"
  }
 },
 "nbformat": 4,
 "nbformat_minor": 5
}
