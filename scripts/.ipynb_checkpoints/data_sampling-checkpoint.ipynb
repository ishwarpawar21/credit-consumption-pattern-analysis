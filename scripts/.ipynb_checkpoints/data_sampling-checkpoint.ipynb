{
 "cells": [
  {
   "cell_type": "markdown",
   "metadata": {},
   "source": [
    " Data Sampling and Splitting"
   ]
  },
  {
   "cell_type": "code",
   "execution_count": 15,
   "metadata": {},
   "outputs": [],
   "source": [
    "import pandas as pd\n",
    "from sklearn.model_selection import train_test_split\n",
    "from sklearn.preprocessing import LabelEncoder\n",
    "import seaborn as sns\n",
    "import matplotlib.pyplot as plt"
   ]
  },
  {
   "cell_type": "code",
   "execution_count": 12,
   "metadata": {},
   "outputs": [
    {
     "name": "stdout",
     "output_type": "stream",
     "text": [
      "data loading complete\n"
     ]
    }
   ],
   "source": [
    "# Load the data\n",
    "file_path = '../data/credit_card_transactions.csv'\n",
    "data = pd.read_csv(file_path)\n",
    "print('data loading complete')"
   ]
  },
  {
   "cell_type": "code",
   "execution_count": 13,
   "metadata": {},
   "outputs": [
    {
     "name": "stdout",
     "output_type": "stream",
     "text": [
      "Data sampling and splitting completed.\n"
     ]
    }
   ],
   "source": [
    "# Basic preprocessing\n",
    "data['Timestamp'] = pd.to_datetime(data[['Year', 'Month', 'Day']].astype(str).agg('-'.join, axis=1) + ' ' + data['Time'])\n",
    "data['Amount'] = data['Amount'].replace('[\\$,]', '', regex=True).astype(float)\n",
    "data.drop(columns=['User', 'Card', 'Year', 'Month', 'Day', 'Time', 'Merchant Name', 'Merchant City', 'Merchant State', 'Zip', 'MCC', 'Errors?', 'Is Fraud?'], inplace=True)\n",
    "\n",
    "# Drop missing values\n",
    "data.dropna(inplace=True)\n",
    "\n",
    "# Extract day of week, month, and hour from the timestamp\n",
    "data['DayOfWeek'] = data['Timestamp'].dt.dayofweek\n",
    "data['Month'] = data['Timestamp'].dt.month\n",
    "data['Hour'] = data['Timestamp'].dt.hour\n",
    "\n",
    "# Label encode the 'Use Chip' column\n",
    "label_encoder = LabelEncoder()\n",
    "data['Use Chip'] = label_encoder.fit_transform(data['Use Chip'])\n",
    "\n",
    "# Split the data into training and testing sets\n",
    "train_data, test_data = train_test_split(data, test_size=0.2, random_state=42)\n",
    "\n",
    "# Save the sampled data\n",
    "train_data.to_csv('../data/train_data.csv', index=False)\n",
    "test_data.to_csv('../data/test_data.csv', index=False)\n",
    "\n",
    "print(\"Data sampling and splitting completed.\")\n"
   ]
  },
  {
   "cell_type": "code",
   "execution_count": 16,
   "metadata": {},
   "outputs": [
    {
     "name": "stdout",
     "output_type": "stream",
     "text": [
      "<class 'pandas.core.frame.DataFrame'>\n",
      "Int64Index: 19509520 entries, 18179310 to 23200604\n",
      "Data columns (total 6 columns):\n",
      " #   Column     Dtype         \n",
      "---  ------     -----         \n",
      " 0   Amount     float64       \n",
      " 1   Use Chip   int64         \n",
      " 2   Timestamp  datetime64[ns]\n",
      " 3   DayOfWeek  int64         \n",
      " 4   Month      int64         \n",
      " 5   Hour       int64         \n",
      "dtypes: datetime64[ns](1), float64(1), int64(4)\n",
      "memory usage: 1.0 GB\n",
      "None\n",
      "             Amount      Use Chip     DayOfWeek         Month          Hour\n",
      "count  1.950952e+07  1.950952e+07  1.950952e+07  1.950952e+07  1.950952e+07\n",
      "mean   4.362418e+01  1.373127e+00  3.003114e+00  6.525408e+00  1.241426e+01\n",
      "std    8.202430e+01  8.657331e-01  1.999698e+00  3.472190e+00  5.065863e+00\n",
      "min   -5.000000e+02  0.000000e+00  0.000000e+00  1.000000e+00  0.000000e+00\n",
      "25%    9.200000e+00  0.000000e+00  1.000000e+00  3.000000e+00  9.000000e+00\n",
      "50%    3.013000e+01  2.000000e+00  3.000000e+00  7.000000e+00  1.200000e+01\n",
      "75%    6.506000e+01  2.000000e+00  5.000000e+00  1.000000e+01  1.600000e+01\n",
      "max    1.239050e+04  2.000000e+00  6.000000e+00  1.200000e+01  2.300000e+01\n",
      "          Amount  Use Chip           Timestamp  DayOfWeek  Month  Hour\n",
      "18179310    3.37         0 2018-06-04 10:54:00          0      6    10\n",
      "16384100   41.87         1 2016-08-23 09:23:00          1      8     9\n",
      "7444729    60.08         2 2002-09-01 17:32:00          6      9    17\n",
      "19486252  -82.00         0 2017-10-25 06:57:00          2     10     6\n",
      "10052420    4.60         2 2011-02-10 03:58:00          3      2     3\n",
      "          Amount  Use Chip           Timestamp  DayOfWeek  Month  Hour\n",
      "18179310    3.37         0 2018-06-04 10:54:00          0      6    10\n",
      "16384100   41.87         1 2016-08-23 09:23:00          1      8     9\n",
      "7444729    60.08         2 2002-09-01 17:32:00          6      9    17\n",
      "19486252  -82.00         0 2017-10-25 06:57:00          2     10     6\n",
      "10052420    4.60         2 2011-02-10 03:58:00          3      2     3\n"
     ]
    },
    {
     "ename": "NameError",
     "evalue": "name 'plt' is not defined",
     "output_type": "error",
     "traceback": [
      "\u001b[0;31m---------------------------------------------------------------------------\u001b[0m",
      "\u001b[0;31mNameError\u001b[0m                                 Traceback (most recent call last)",
      "\u001b[0;32m<ipython-input-16-71c0b21344b0>\u001b[0m in \u001b[0;36m<module>\u001b[0;34m\u001b[0m\n\u001b[1;32m     12\u001b[0m \u001b[0;31m# Visualize missing values\u001b[0m\u001b[0;34m\u001b[0m\u001b[0;34m\u001b[0m\u001b[0;34m\u001b[0m\u001b[0m\n\u001b[1;32m     13\u001b[0m \u001b[0msns\u001b[0m\u001b[0;34m.\u001b[0m\u001b[0mheatmap\u001b[0m\u001b[0;34m(\u001b[0m\u001b[0mtrain_data\u001b[0m\u001b[0;34m.\u001b[0m\u001b[0misnull\u001b[0m\u001b[0;34m(\u001b[0m\u001b[0;34m)\u001b[0m\u001b[0;34m,\u001b[0m \u001b[0mcbar\u001b[0m\u001b[0;34m=\u001b[0m\u001b[0;32mFalse\u001b[0m\u001b[0;34m,\u001b[0m \u001b[0mcmap\u001b[0m\u001b[0;34m=\u001b[0m\u001b[0;34m'viridis'\u001b[0m\u001b[0;34m)\u001b[0m\u001b[0;34m\u001b[0m\u001b[0;34m\u001b[0m\u001b[0m\n\u001b[0;32m---> 14\u001b[0;31m \u001b[0mplt\u001b[0m\u001b[0;34m.\u001b[0m\u001b[0mtitle\u001b[0m\u001b[0;34m(\u001b[0m\u001b[0;34m'Missing Values Heatmap'\u001b[0m\u001b[0;34m)\u001b[0m\u001b[0;34m\u001b[0m\u001b[0;34m\u001b[0m\u001b[0m\n\u001b[0m\u001b[1;32m     15\u001b[0m \u001b[0mplt\u001b[0m\u001b[0;34m.\u001b[0m\u001b[0mshow\u001b[0m\u001b[0;34m(\u001b[0m\u001b[0;34m)\u001b[0m\u001b[0;34m\u001b[0m\u001b[0;34m\u001b[0m\u001b[0m\n",
      "\u001b[0;31mNameError\u001b[0m: name 'plt' is not defined"
     ]
    },
    {
     "data": {
      "image/png": "[encoded data removed]",
      "text/plain": [
       "<Figure size 432x288 with 1 Axes>"
      ]
     },
     "metadata": {
      "needs_background": "light"
     },
     "output_type": "display_data"
    }
   ],
   "source": [
    "# Display basic information\n",
    "print(train_data.info())\n",
    "print(train_data.describe())\n",
    "\n",
    "# Display first few rows\n",
    "print(train_data.head())\n",
    "\n",
    "# Display first few rows\n",
    "print(train_data.head())\n",
    "\n",
    "\n",
    "# Visualize missing values\n",
    "sns.heatmap(train_data.isnull(), cbar=False, cmap='viridis')\n",
    "plt.title('Missing Values Heatmap')\n",
    "plt.show()"
   ]
  },
  {
   "cell_type": "code",
   "execution_count": null,
   "metadata": {},
   "outputs": [],
   "source": []
  }
 ],
 "metadata": {
  "kernelspec": {
   "display_name": "Python 3",
   "language": "python",
   "name": "python3"
  },
  "language_info": {
   "codemirror_mode": {
    "name": "ipython",
    "version": 3
   },
   "file_extension": ".py",
   "mimetype": "text/x-python",
   "name": "python",
   "nbconvert_exporter": "python",
   "pygments_lexer": "ipython3",
   "version": "3.8.5"
  }
 },
 "nbformat": 4,
 "nbformat_minor": 4
}
